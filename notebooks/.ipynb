{
 "cells": [
  {
   "cell_type": "code",
   "execution_count": 1,
   "metadata": {},
   "outputs": [],
   "source": [
    "import seaborn as sns\n",
    "import metapack as mp\n",
    "import pandas as pd\n",
    "import numpy as np\n",
    "import matplotlib.pyplot as plt\n",
    "from IPython.display import display \n",
    "\n",
    "%matplotlib inline\n",
    "sns.set_context('notebook')\n",
    "mp.jupyter.init()\n"
   ]
  },
  {
   "cell_type": "code",
   "execution_count": 2,
   "metadata": {},
   "outputs": [
    {
     "data": {
      "text/html": [
       "<h1>Homicides in California</h1>\n",
       "<p><code>openjustice.doj.ca.gov-homicide-1.1.1</code> Last Update: 2020-06-15T22:05:14</p>\n",
       "<p><em>Homicides reported to the California DOJ by local law enforcement.</em></p>\n",
       "<h2>Processing</h2>\n",
       "<p>The value label files were manually extracted from the data dictionary PDF. </p>\n",
       "<p>Manslaughter 50 to 59\n",
       "Justifiable by Citizen ONLY 80 to 89 \n",
       "Justifiable by Peace Officer ONLY 90 to 99</p>\n",
       "<h2>Documentation Links</h2>\n",
       "<ul>\n",
       "<li><a href=\"https://data-openjustice.doj.ca.gov/sites/default/files/dataset/2019-07/Homicide%20Context_062419.pdf\">Data documentation</a> Data documentation and data dictionary</li>\n",
       "<li><a href=\"https://data-openjustice.doj.ca.gov/sites/default/files/2019-07/Homicide%20In%20CA%2020190701.pdf\">Homicide in California in 2019</a> Report based on this dataset.</li>\n",
       "<li><a href=\"https://openjustice.doj.ca.gov/data\">Data download page</a> </li>\n",
       "<li><a href=\"https://openjustice.doj.ca.gov/\">Open Justice Home Page</a> </li>\n",
       "</ul>\n",
       "<h2>Contacts</h2>\n",
       "<ul>\n",
       "<li><strong>Wrangler</strong> <a href=\"mailto:eric@civicknowledge.com\">Eric Busboom</a>, <a href=\"http://civicknowledge.com\">Civic Knowledge</a></li>\n",
       "</ul>\n",
       "<h2>Resources</h2>\n",
       "<ul>\n",
       "<li><strong> <a href=\"https://data-openjustice.doj.ca.gov/sites/default/files/dataset/2019-06/Homicide%20_Actuals_1987-2018.csv\">homicides</a></strong>. California homicides</li>\n",
       "<li><strong> <a href=\"https://data-openjustice.doj.ca.gov/sites/default/files/dataset/2019-06/Homicide_Justifiable_1987-2018.csv\">homicide_justifiable</a></strong>. California justifiable homicides</li>\n",
       "<li><strong> <a href=\"https://data-openjustice.doj.ca.gov/sites/default/files/dataset/2019-06/Homicide_Manslaughter_1987-2018.csv\">homicide_manslaughter</a></strong>. California manslaughter homicides</li>\n",
       "</ul>\n",
       "<h2>References</h2>\n",
       "<p><ul><li> <strong>vl_source</string>, <em>data/value_labels.csv</em>. Data dictionary, extracted from the data ditionary pdf</li><ul></p>"
      ],
      "text/plain": [
       "# Homicides in California\n",
       "`openjustice.doj.ca.gov-homicide-1.1.1` Last Update: 2020-06-15T22:05:14\n",
       "\n",
       "_Homicides reported to the California DOJ by local law enforcement._\n",
       "\n",
       "\n",
       "## Processing\n",
       "\n",
       "The value label files were manually extracted from the data dictionary PDF. \n",
       "\n",
       "Manslaughter 50 to 59\n",
       "Justifiable by Citizen ONLY 80 to 89 \n",
       "Justifiable by Peace Officer ONLY 90 to 99\n",
       "## Documentation Links\n",
       "\n",
       "* [Data documentation](https://data-openjustice.doj.ca.gov/sites/default/files/dataset/2019-07/Homicide%20Context_062419.pdf) Data documentation and data dictionary\n",
       "* [Homicide in California in 2019](https://data-openjustice.doj.ca.gov/sites/default/files/2019-07/Homicide%20In%20CA%2020190701.pdf) Report based on this dataset.\n",
       "* [Data download page](https://openjustice.doj.ca.gov/data) \n",
       "* [Open Justice Home Page](https://openjustice.doj.ca.gov/) \n",
       "\n",
       " \n",
       "\n",
       "## Contacts\n",
       "\n",
       "* **Wrangler** [Eric Busboom](mailto:eric@civicknowledge.com), [Civic Knowledge](http://civicknowledge.com)\n",
       "\n",
       "## Resources\n",
       "\n",
       "* ** [homicides](https://data-openjustice.doj.ca.gov/sites/default/files/dataset/2019-06/Homicide%20_Actuals_1987-2018.csv)**. California homicides\n",
       "* ** [homicide_justifiable](https://data-openjustice.doj.ca.gov/sites/default/files/dataset/2019-06/Homicide_Justifiable_1987-2018.csv)**. California justifiable homicides\n",
       "* ** [homicide_manslaughter](https://data-openjustice.doj.ca.gov/sites/default/files/dataset/2019-06/Homicide_Manslaughter_1987-2018.csv)**. California manslaughter homicides\n",
       "\n",
       "## References\n",
       "<ul><li> <strong>vl_source</string>, <em>data/value_labels.csv</em>. Data dictionary, extracted from the data ditionary pdf</li><ul>\n"
      ]
     },
     "execution_count": 2,
     "metadata": {},
     "output_type": "execute_result"
    }
   ],
   "source": [
    "#pkg = mp.jupyter.open_package()\n",
    "pkg = mp.jupyter.open_source_package()\n",
    "pkg"
   ]
  },
  {
   "cell_type": "code",
   "execution_count": 8,
   "metadata": {},
   "outputs": [
    {
     "data": {
      "text/html": [
       "<div>\n",
       "<style scoped>\n",
       "    .dataframe tbody tr th:only-of-type {\n",
       "        vertical-align: middle;\n",
       "    }\n",
       "\n",
       "    .dataframe tbody tr th {\n",
       "        vertical-align: top;\n",
       "    }\n",
       "\n",
       "    .dataframe thead th {\n",
       "        text-align: right;\n",
       "    }\n",
       "</style>\n",
       "<table border=\"1\" class=\"dataframe\">\n",
       "  <thead>\n",
       "    <tr style=\"text-align: right;\">\n",
       "      <th></th>\n",
       "      <th>variable</th>\n",
       "      <th>code</th>\n",
       "      <th>label</th>\n",
       "      <th>subject_heading</th>\n",
       "    </tr>\n",
       "  </thead>\n",
       "  <tbody>\n",
       "    <tr>\n",
       "      <th>0</th>\n",
       "      <td>precipitating_event</td>\n",
       "      <td>2</td>\n",
       "      <td>Rape</td>\n",
       "      <td>Actuals</td>\n",
       "    </tr>\n",
       "    <tr>\n",
       "      <th>1</th>\n",
       "      <td>precipitating_event</td>\n",
       "      <td>3</td>\n",
       "      <td>Robbery</td>\n",
       "      <td>Actuals</td>\n",
       "    </tr>\n",
       "    <tr>\n",
       "      <th>2</th>\n",
       "      <td>precipitating_event</td>\n",
       "      <td>5</td>\n",
       "      <td>Burglary</td>\n",
       "      <td>Actuals</td>\n",
       "    </tr>\n",
       "    <tr>\n",
       "      <th>3</th>\n",
       "      <td>precipitating_event</td>\n",
       "      <td>6</td>\n",
       "      <td>Larceny</td>\n",
       "      <td>Actuals</td>\n",
       "    </tr>\n",
       "    <tr>\n",
       "      <th>4</th>\n",
       "      <td>precipitating_event</td>\n",
       "      <td>7</td>\n",
       "      <td>Motor vehicle theft</td>\n",
       "      <td>Actuals</td>\n",
       "    </tr>\n",
       "    <tr>\n",
       "      <th>...</th>\n",
       "      <td>...</td>\n",
       "      <td>...</td>\n",
       "      <td>...</td>\n",
       "      <td>...</td>\n",
       "    </tr>\n",
       "    <tr>\n",
       "      <th>82</th>\n",
       "      <td>location</td>\n",
       "      <td>20</td>\n",
       "      <td>Jail</td>\n",
       "      <td>NaN</td>\n",
       "    </tr>\n",
       "    <tr>\n",
       "      <th>83</th>\n",
       "      <td>location</td>\n",
       "      <td>21</td>\n",
       "      <td>CYA</td>\n",
       "      <td>NaN</td>\n",
       "    </tr>\n",
       "    <tr>\n",
       "      <th>84</th>\n",
       "      <td>location</td>\n",
       "      <td>24</td>\n",
       "      <td>Shared residence</td>\n",
       "      <td>NaN</td>\n",
       "    </tr>\n",
       "    <tr>\n",
       "      <th>85</th>\n",
       "      <td>location</td>\n",
       "      <td>25</td>\n",
       "      <td>School or grounds</td>\n",
       "      <td>NaN</td>\n",
       "    </tr>\n",
       "    <tr>\n",
       "      <th>86</th>\n",
       "      <td>location</td>\n",
       "      <td>99</td>\n",
       "      <td>Other</td>\n",
       "      <td>NaN</td>\n",
       "    </tr>\n",
       "  </tbody>\n",
       "</table>\n",
       "<p>87 rows × 4 columns</p>\n",
       "</div>"
      ],
      "text/plain": [
       "               variable  code                 label subject_heading\n",
       "0   precipitating_event     2                 Rape         Actuals \n",
       "1   precipitating_event     3              Robbery         Actuals \n",
       "2   precipitating_event     5             Burglary         Actuals \n",
       "3   precipitating_event     6              Larceny         Actuals \n",
       "4   precipitating_event     7  Motor vehicle theft         Actuals \n",
       "..                  ...   ...                   ...             ...\n",
       "82             location    20                  Jail             NaN\n",
       "83             location    21                   CYA             NaN\n",
       "84             location    24      Shared residence             NaN\n",
       "85             location    25     School or grounds             NaN\n",
       "86             location    99                 Other             NaN\n",
       "\n",
       "[87 rows x 4 columns]"
      ]
     },
     "execution_count": 8,
     "metadata": {},
     "output_type": "execute_result"
    }
   ],
   "source": [
    "vl = pkg.reference('vl_source').dataframe()\n",
    "vl"
   ]
  },
  {
   "cell_type": "code",
   "execution_count": 9,
   "metadata": {},
   "outputs": [
    {
     "data": {
      "text/plain": [
       "array(['precipitating_event', 'means_of_death', 'location'], dtype=object)"
      ]
     },
     "execution_count": 9,
     "metadata": {},
     "output_type": "execute_result"
    }
   ],
   "source": [
    "vl.variable.unique()"
   ]
  },
  {
   "cell_type": "code",
   "execution_count": 10,
   "metadata": {},
   "outputs": [],
   "source": [
    "precipitating_event_labels = vl[vl.variable=='precipitating_event'][['code','label','subject_heading']]\n",
    "means_of_death_labels = vl[vl.variable=='means_of_death'][['code','label']]\n",
    "location_labels = vl[vl.variable=='location'][['code','label']]\n"
   ]
  },
  {
   "cell_type": "code",
   "execution_count": null,
   "metadata": {},
   "outputs": [],
   "source": []
  }
 ],
 "metadata": {
  "kernelspec": {
   "display_name": "Python 3",
   "language": "python",
   "name": "python3"
  },
  "language_info": {
   "codemirror_mode": {
    "name": "ipython",
    "version": 3
   },
   "file_extension": ".py",
   "mimetype": "text/x-python",
   "name": "python",
   "nbconvert_exporter": "python",
   "pygments_lexer": "ipython3",
   "version": "3.6.9"
  }
 },
 "nbformat": 4,
 "nbformat_minor": 4
}
